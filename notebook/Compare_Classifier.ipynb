{
 "cells": [
  {
   "cell_type": "code",
   "execution_count": 1,
   "metadata": {
    "collapsed": true
   },
   "outputs": [],
   "source": [
    "import numpy as np\n",
    "from sklearn import linear_model\n",
    "from sklearn.neighbors import KNeighborsClassifier\n",
    "from sklearn.naive_bayes import GaussianNB\n",
    "from sklearn.tree import DecisionTreeClassifier\n",
    "import matplotlib.pyplot as plt\n",
    "import tables "
   ]
  },
  {
   "cell_type": "code",
   "execution_count": 4,
   "metadata": {
    "collapsed": true
   },
   "outputs": [],
   "source": [
    "data = np.genfromtxt('../data/spambase_train.csv', delimiter=',')\n",
    "data_test=np.genfromtxt('../data/spambase_test.csv', delimiter=',')"
   ]
  },
  {
   "cell_type": "code",
   "execution_count": 5,
   "metadata": {
    "collapsed": true
   },
   "outputs": [],
   "source": [
    "X=data[:,0:-1]\n",
    "y=data[:,-1]\n",
    "Xt=data_test[:,0:-1]\n",
    "yt=data_test[:,-1]\n",
    "clust_data=[]"
   ]
  },
  {
   "cell_type": "code",
   "execution_count": 6,
   "metadata": {
    "collapsed": true
   },
   "outputs": [],
   "source": [
    "def classify(X,y,Xt,yt):\n",
    "    neigh = KNeighborsClassifier(n_neighbors=3)\n",
    "    neigh.fit(X, y) \n",
    "    score1=neigh.score(Xt,yt)\n",
    "    clf = DecisionTreeClassifier(random_state=0)\n",
    "    clf.fit(X,y)\n",
    "    score2=clf.score(Xt,yt)\n",
    "    print(round(score1,3),\"           \",round(score2,3))\n",
    "    return score1,score2\n",
    "\n"
   ]
  },
  {
   "cell_type": "code",
   "execution_count": 8,
   "metadata": {},
   "outputs": [
    {
     "name": "stdout",
     "output_type": "stream",
     "text": [
      "Accuracy using K neighbours and Decision Tree classifier\n",
      "KNN                DCT\n",
      "0.903             0.915\n",
      "0.902             0.873\n",
      "0.822             0.811\n",
      "0.31             0.51\n",
      "0.56             0.64\n",
      "0.7             0.707\n",
      "0.965             0.912\n",
      "0.964             0.929\n",
      "0.636             0.659\n",
      "0.835             0.806\n"
     ]
    }
   ],
   "source": [
    "print(\"Accuracy using K neighbours and Decision Tree classifier\")\n",
    "print(\"KNN                DCT\")\n",
    "a=['../data/spambase_train.csv','../data/bank_train.csv',\n",
    "   '../data/adult_train.csv','../data/annealing_train.csv',\n",
    "   '../data/audiology-std_train.csv','../data/blood_train.csv',\n",
    "   '../data/breast-cancer-wisc-diag_train.csv','../data/breast-cancer-wisc_train.csv',\n",
    "   '../data/congressional-voting_train.csv','../data/credit-approval_train.csv',\n",
    "   '../data/cylinder-bands_train.csv','../data/echocardiogram_train.csv']\n",
    "at=['../data/spambase_test.csv','../data/bank_test.csv','../data/adult_test.csv',\n",
    "    '../data/annealing_test.csv','../data/audiology-std_test.csv','../data/blood_test.csv',\n",
    "    '../data/breast-cancer-wisc-diag_test.csv','../data/breast-cancer-wisc_test.csv','../data/congressional-voting_test.csv','../data/credit-approval_test.csv','../data/cylinder-bands_test.csv','../data/echocardiogram_test.csv']\n",
    "\n",
    "for i in range(0,10):\n",
    "    data=np.genfromtxt(a[i], delimiter=',')\n",
    "    data_test=np.genfromtxt(at[i], delimiter=',')\n",
    "    X=data[:,0:-1]\n",
    "    y=data[:,-1]\n",
    "    Xt=data_test[:,0:-1]\n",
    "    yt=data_test[:,-1]\n",
    "    classify(X,y,Xt,yt)\n",
    "    #print(round(a,3),\"  \",round(b,3))"
   ]
  }
 ],
 "metadata": {
  "kernelspec": {
   "display_name": "Python 3",
   "language": "python",
   "name": "python3"
  },
  "language_info": {
   "codemirror_mode": {
    "name": "ipython",
    "version": 3
   },
   "file_extension": ".py",
   "mimetype": "text/x-python",
   "name": "python",
   "nbconvert_exporter": "python",
   "pygments_lexer": "ipython3",
   "version": "3.6.3"
  }
 },
 "nbformat": 4,
 "nbformat_minor": 2
}
