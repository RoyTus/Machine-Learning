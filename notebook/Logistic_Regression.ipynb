{
 "cells": [
  {
   "cell_type": "code",
   "execution_count": 1,
   "metadata": {
    "collapsed": true
   },
   "outputs": [],
   "source": [
    "import numpy as np\n",
    "from math import exp, expm1"
   ]
  },
  {
   "cell_type": "code",
   "execution_count": 2,
   "metadata": {
    "collapsed": true
   },
   "outputs": [],
   "source": [
    "data = np.genfromtxt('../data/spambase_train.csv', delimiter=',')\n",
    "data_test=np.genfromtxt('../data/spambase_test.csv', delimiter=',')"
   ]
  },
  {
   "cell_type": "code",
   "execution_count": 3,
   "metadata": {
    "collapsed": true
   },
   "outputs": [],
   "source": [
    "X=data[:,0:-1]\n",
    "y=data[:,-1]\n",
    "#print(X)\n",
    "\n",
    "#split data for train and test into ratio 70,30\n",
    "data_train=data[0:int(len(data)*1)]\n",
    "#data_test=data[int(len(data)*0.7):]\n"
   ]
  },
  {
   "cell_type": "code",
   "execution_count": 4,
   "metadata": {
    "collapsed": true
   },
   "outputs": [],
   "source": [
    "#number of training sample\n",
    "N=len(X)\n",
    "#print(N)\n",
    "#learning rate\n",
    "lr=0.01\n",
    "#initializa weights to the number of features to zero\n",
    "n=len(X[0])\n",
    "#print(n)\n"
   ]
  },
  {
   "cell_type": "code",
   "execution_count": 5,
   "metadata": {},
   "outputs": [
    {
     "name": "stdout",
     "output_type": "stream",
     "text": [
      "-0.126714099909 [ 0.0625386  -0.03526474  0.09299809  0.02541848  0.19896548  0.23059282\n",
      "  0.2312504   0.12183258  0.01458316  0.08134626  0.03226984 -0.04365392\n",
      "  0.02168829  0.08832197  0.15341813  0.20193248  0.09714509  0.17080194\n",
      "  0.114268    0.0739445   0.11408019  0.01753754  0.16901479  0.13022223\n",
      " -0.13229606 -0.10541956 -0.08881319  0.06800983 -0.03643562 -0.0592242\n",
      " -0.06798704 -0.04935882 -0.02781684 -0.04549128 -0.0873904  -0.06102078\n",
      " -0.10210282 -0.04385099 -0.09493772  0.00429924 -0.08160449 -0.11581728\n",
      " -0.05481172 -0.01127456 -0.05756735 -0.15830454 -0.05789804 -0.10156901\n",
      "  0.01798847 -0.00481509 -0.06683451  0.1697074   0.19753529  0.04822018\n",
      "  0.04658294  0.14111599  0.25748695]\n"
     ]
    }
   ],
   "source": [
    "def predict(row,w,w0):\n",
    "    sig=1/(1 + exp((-1*((np.dot(w, row))+w0))))\n",
    "    #print(exp((-1*((np.dot(w, row))+w0))))\n",
    "    #print(\"dot=\",np.dot(w, row))\n",
    "    return sig\n",
    "\n",
    "w0_new=0\n",
    "error=0\n",
    "w_new=[0]*n\n",
    "def logreg(data_train,w0_new,w_new):\n",
    "    for t in range(0,100):\n",
    "        np.random.shuffle(data_train)\n",
    "        X=data_train[:,0:-1]\n",
    "        y=data_train[:,-1]\n",
    "        \n",
    "        error=0\n",
    "        for i in range(0,int(len(data)*1)):\n",
    "            w0_old=w0_new\n",
    "            w_old=w_new\n",
    "            y_p=predict(X[i],w_old,w0_old)\n",
    "            w0_new=w0_old+(lr*(y[i]-y_p))\n",
    "            w_new=w_old+(lr*(y[i]-y_p)*X[i])\n",
    "            #check for convergence\n",
    "            w=w_new-w_old\n",
    "            w0=w0_new-w0_old\n",
    "            w=np.append(w,w0)\n",
    "            if(np.sum(np.power(w,2))<0.000001):\n",
    "                return(w0_new,w_new)\n",
    "\n",
    "\n",
    "w0_new,w_new=logreg(data_train,w0_new,w_new)\n",
    "print(w0_new,w_new)"
   ]
  },
  {
   "cell_type": "code",
   "execution_count": 6,
   "metadata": {
    "collapsed": true
   },
   "outputs": [],
   "source": [
    "acc=len(data_test)\n",
    "for i in range(0,len(data_test)):\n",
    "    X=data_test[:,0:-1]\n",
    "    y=data_test[:,-1]\n",
    "    error=y[i]-round(predict(X[i],w_new,w0_new))\n",
    "    #print(\"error : = \",(predict(X[i],w_new,w0_new)),y[i])\n",
    "    if(round(predict(X[i],w_new,w0_new))!=y[i]):\n",
    "        acc=acc-1"
   ]
  },
  {
   "cell_type": "code",
   "execution_count": 7,
   "metadata": {},
   "outputs": [
    {
     "name": "stdout",
     "output_type": "stream",
     "text": [
      "accuracy =  89.79370249728555\n"
     ]
    }
   ],
   "source": [
    "print(\"accuracy = \",acc/len(data_test)*100)"
   ]
  },
  {
   "cell_type": "code",
   "execution_count": null,
   "metadata": {
    "collapsed": true
   },
   "outputs": [],
   "source": []
  }
 ],
 "metadata": {
  "kernelspec": {
   "display_name": "Python 3",
   "language": "python",
   "name": "python3"
  },
  "language_info": {
   "codemirror_mode": {
    "name": "ipython",
    "version": 3
   },
   "file_extension": ".py",
   "mimetype": "text/x-python",
   "name": "python",
   "nbconvert_exporter": "python",
   "pygments_lexer": "ipython3",
   "version": "3.6.3"
  }
 },
 "nbformat": 4,
 "nbformat_minor": 2
}
