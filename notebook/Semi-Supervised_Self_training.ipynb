{
 "cells": [
  {
   "cell_type": "code",
   "execution_count": 1,
   "metadata": {
    "collapsed": true
   },
   "outputs": [],
   "source": [
    "import numpy as np\n",
    "import matplotlib.pyplot as plt\n",
    "from sklearn.linear_model import LogisticRegression\n",
    "from sklearn.svm import SVC"
   ]
  },
  {
   "cell_type": "code",
   "execution_count": 2,
   "metadata": {},
   "outputs": [
    {
     "data": {
      "image/png": "[encoded data removed]",
      "text/plain": [
       "<matplotlib.figure.Figure at 0x7f150c9d5ef0>"
      ]
     },
     "metadata": {},
     "output_type": "display_data"
    }
   ],
   "source": [
    "# Class 1\n",
    "x = np.random.multivariate_normal([-1, -1], [[1, -.25], [-.25, 1]], 500).T\n",
    "x_test = np.random.multivariate_normal([-1, -1], [[1, -.25], [-.25, 1]],500).T\n",
    "#Class 2\n",
    "y = np.random.multivariate_normal([1, 1], [[1, -.25], [-.25, 1]], 500).T\n",
    "y_test = np.random.multivariate_normal([1, 1], [[1, -.25], [-.25, 1]], 500).T\n",
    "plt.plot(x[0], x[1], 'o', c='b')\n",
    "plt.plot(y[0], y[1], 'o', c='r')\n",
    "plt.axis('equal')\n",
    "plt.xlabel('$x_1$')  # use latex in the figure axis labels\n",
    "plt.ylabel('$x_2$')\n",
    "plt.legend((\"Class 1\", \"Class 2\"))\n",
    "plt.show()\n"
   ]
  },
  {
   "cell_type": "code",
   "execution_count": 3,
   "metadata": {
    "collapsed": true
   },
   "outputs": [],
   "source": [
    "#segregate to sample datas with 10% and 25% labeled training data\n",
    "#10% training labeled data\n",
    "random_x_y = np.random.randint(500, size=int(0.10*500))\n",
    "#print(random_x_y.shape)\n",
    "x_10=x[:,random_x_y]\n",
    "y_10=y[:,random_x_y]\n",
    "x_90=np.delete(x,random_x_y,1)\n",
    "y_90=np.delete(y,random_x_y,1)\n",
    "#print(x_90.shape,random_x_y.shape,x.shape,y_90.shape,y.shape)\n",
    "X=np.stack((x_10[0][:], x_10[1][:]), axis=-1)\n",
    "Y=np.stack((y_10[0][:], y_10[1][:]), axis=-1)\n",
    "Z_10=np.concatenate((X, Y), axis=0)      #labelled input data\n",
    "O_10=np.concatenate((np.full((50), 0), np.full((50), 1)), axis=0)    #output of labelled data\n",
    "#unlaballed data\n",
    "X=np.stack((x_90[0][:], x_90[1][:]), axis=-1)\n",
    "Y=np.stack((y_90[0][:], y_90[1][:]), axis=-1)\n",
    "Z_90=np.concatenate((X, Y), axis=0)      \n",
    "\n",
    "#25% training labeled data\n",
    "random_x_y = np.random.randint(500, size=int(0.25*500))\n",
    "x_25=x[:,random_x_y]\n",
    "y_25=y[:,random_x_y]\n",
    "x_75=np.delete(x,random_x_y,1)\n",
    "y_75=np.delete(y,random_x_y,1)\n",
    "#print(x_75.shape,random_x_y.shape,x.shape,y_75.shape,y.shape)\n",
    "X=np.stack((x_25[0][:], x_25[1][:]), axis=-1)\n",
    "Y=np.stack((y_25[0][:], y_25[1][:]), axis=-1)\n",
    "Z_25=np.concatenate((X, Y), axis=0)      #labelled input data\n",
    "O_25=np.concatenate((np.full((125), 0), np.full((125), 1)), axis=0)    #output of labelled data\n",
    "#unlabelled\n",
    "X=np.stack((x_75[0][:], x_75[1][:]), axis=-1)\n",
    "Y=np.stack((y_75[0][:], y_75[1][:]), axis=-1)\n",
    "Z_75=np.concatenate((X, Y), axis=0)  \n",
    "#print(x_10.shape,y_10.shape,x_25.shape,y_25.shape)\n",
    "\n",
    "#testing data commmon for all\n",
    "X_test=np.stack((x_test[0][:], x_test[1][:]), axis=-1)\n",
    "Y_test=np.stack((y_test[0][:], y_test[1][:]), axis=-1)\n",
    "Z_test=np.concatenate((X_test, Y_test), axis=0)\n",
    "O_test=np.concatenate((np.full((500), 0), np.full((500), 1)), axis=0)"
   ]
  },
  {
   "cell_type": "code",
   "execution_count": 4,
   "metadata": {
    "collapsed": true
   },
   "outputs": [],
   "source": [
    "def self_training(Z_labelled_,O_labelled_,Z_unlabelled_,sample_rate_unlabelled,Z_test,O_test):\n",
    "    lr = LogisticRegression(C=1.)\n",
    "    Z_labelled=Z_labelled_\n",
    "    O_labelled=O_labelled_\n",
    "    Z_unlabelled=Z_unlabelled_\n",
    "    #required unlabelled data to move to labelled\n",
    "    len_labelled_data=sample_rate_unlabelled*len(Z_unlabelled)\n",
    "    i=0\n",
    "    confidence=0.90\n",
    "    while(1):\n",
    "        lr.fit(Z_labelled,O_labelled)\n",
    "        if(len_labelled_data >= len(Z_unlabelled) or i>20):\n",
    "            print(\"Testing error \",(1-lr.score(Z_test,O_test))*100,\"%\",\"Shape labelled & unlabelled\",Z_labelled.shape,Z_unlabelled.shape)\n",
    "            break\n",
    "        #predict probability of the unlabelled class\n",
    "        temp=lr.predict_proba(Z_unlabelled)\n",
    "        #index if confidence in class 1 is greater than 0.95\n",
    "        temp_index_class1=np.asarray(np.where(temp[:,0] >confidence))\n",
    "        \n",
    "        #temp_index_class1.shape=(len(temp_index_class1[0,]),1)\n",
    "        #print(temp_index_class1.shape)\n",
    "        #put this values in labelled data with corresponding output label\n",
    "        Z_labelled=np.concatenate((Z_labelled, Z_unlabelled[temp_index_class1[0,:],:]), axis=0)  \n",
    "        O_labelled=np.concatenate((O_labelled, np.full((len(temp_index_class1[0,:])), 0)), axis=0)  \n",
    "        #index if confidence in class 2 is greater than 0.95\n",
    "        temp_index_class2=np.asarray(np.where(temp[:,1] >confidence))\n",
    "        #put this values in labelled data with corresponding output label\n",
    "        Z_labelled=np.concatenate((Z_labelled, Z_unlabelled[temp_index_class2[0,:],:]), axis=0)  \n",
    "        O_labelled=np.concatenate((O_labelled, np.full((len(temp_index_class2[0,:])), 1)), axis=0)   \n",
    "        #Now clean the unlabelled data from the labbelled data\n",
    "        Z_2=np.concatenate((temp_index_class1[0,:], temp_index_class2[0,:]), axis=0) \n",
    "        Z_unlabelled=np.delete(Z_unlabelled,Z_2,0)\n",
    "        i=i+1\n",
    "\n",
    "        \n",
    "    return 0"
   ]
  },
  {
   "cell_type": "code",
   "execution_count": 5,
   "metadata": {},
   "outputs": [
    {
     "name": "stdout",
     "output_type": "stream",
     "text": [
      "For 10% training labelled data\n",
      "1st time when only training labelled data is used for classification\n",
      "Testing error  4.8 % Shape labelled & unlabelled (100, 2) (902, 2)\n",
      "During the self training process when pseudo labels are used\n",
      "Testing error  4.9 % Shape labelled & unlabelled (805, 2) (197, 2)\n",
      "After self-training is completed\n",
      "Testing error  4.8 % Shape labelled & unlabelled (886, 2) (116, 2)\n"
     ]
    },
    {
     "data": {
      "text/plain": [
       "0"
      ]
     },
     "execution_count": 5,
     "metadata": {},
     "output_type": "execute_result"
    }
   ],
   "source": [
    "print(\"For 10% training labelled data\")\n",
    "print(\"1st time when only training labelled data is used for classification\")\n",
    "self_training(Z_10,O_10,Z_90,1,Z_test,O_test)\n",
    "print(\"During the self training process when pseudo labels are used\")\n",
    "self_training(Z_10,O_10,Z_90,0.5,Z_test,O_test)\n",
    "print(\"After self-training is completed\")\n",
    "self_training(Z_10,O_10,Z_90,0,Z_test,O_test)\n"
   ]
  },
  {
   "cell_type": "code",
   "execution_count": 6,
   "metadata": {},
   "outputs": [
    {
     "name": "stdout",
     "output_type": "stream",
     "text": [
      "For 25% training labelled data\n",
      "1st time when only training labelled data is used for classification\n",
      "Testing error  4.7 % Shape labelled & unlabelled (250, 2) (782, 2)\n",
      "During the self training process when pseudo labels are used\n",
      "Testing error  4.9 % Shape labelled & unlabelled (856, 2) (176, 2)\n",
      "After self-training is completed\n",
      "Testing error  4.7 % Shape labelled & unlabelled (909, 2) (123, 2)\n"
     ]
    },
    {
     "data": {
      "text/plain": [
       "0"
      ]
     },
     "execution_count": 6,
     "metadata": {},
     "output_type": "execute_result"
    }
   ],
   "source": [
    "print(\"For 25% training labelled data\")\n",
    "print(\"1st time when only training labelled data is used for classification\")\n",
    "self_training(Z_25,O_25,Z_75,1,Z_test,O_test)\n",
    "print(\"During the self training process when pseudo labels are used\")\n",
    "self_training(Z_25,O_25,Z_75,0.5,Z_test,O_test)\n",
    "print(\"After self-training is completed\")\n",
    "self_training(Z_25,O_25,Z_75,0,Z_test,O_test)"
   ]
  },
  {
   "cell_type": "code",
   "execution_count": null,
   "metadata": {
    "collapsed": true
   },
   "outputs": [],
   "source": []
  }
 ],
 "metadata": {
  "kernelspec": {
   "display_name": "Python 3",
   "language": "python",
   "name": "python3"
  },
  "language_info": {
   "codemirror_mode": {
    "name": "ipython",
    "version": 3
   },
   "file_extension": ".py",
   "mimetype": "text/x-python",
   "name": "python",
   "nbconvert_exporter": "python",
   "pygments_lexer": "ipython3",
   "version": "3.6.3"
  }
 },
 "nbformat": 4,
 "nbformat_minor": 2
}
