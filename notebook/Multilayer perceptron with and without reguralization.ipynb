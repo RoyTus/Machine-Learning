{
 "cells": [
  {
   "cell_type": "code",
   "execution_count": 1,
   "metadata": {},
   "outputs": [
    {
     "name": "stderr",
     "output_type": "stream",
     "text": [
      "/home/roy/anaconda3/lib/python3.6/importlib/_bootstrap.py:219: RuntimeWarning: compiletime version 3.5 of module 'tensorflow.python.framework.fast_tensor_util' does not match runtime version 3.6\n",
      "  return f(*args, **kwds)\n"
     ]
    },
    {
     "name": "stdout",
     "output_type": "stream",
     "text": [
      "Extracting MNIST_data/train-images-idx3-ubyte.gz\n",
      "Extracting MNIST_data/train-labels-idx1-ubyte.gz\n",
      "Extracting MNIST_data/t10k-images-idx3-ubyte.gz\n",
      "Extracting MNIST_data/t10k-labels-idx1-ubyte.gz\n"
     ]
    }
   ],
   "source": [
    "import tensorflow as tf\n",
    "from tensorflow.examples.tutorials.mnist import input_data\n",
    "mnist = input_data.read_data_sets('MNIST_data', one_hot=True)\n"
   ]
  },
  {
   "cell_type": "code",
   "execution_count": 2,
   "metadata": {},
   "outputs": [
    {
     "name": "stdout",
     "output_type": "stream",
     "text": [
      "                                Classification Error\n",
      "                                training     testing\n",
      "50HLN + no reguralization        0.169       0.171\n",
      "50HLN + l2 reguralization        0.116       0.123\n",
      "250HLN + no reguralization       0.115       0.115\n",
      "250HLN + l2 reguralization       0.098       0.107\n",
      "Learning rate      0.3\n",
      "l2 Reguralization parameter 0.001\n",
      "Number of learning rounds 3\n"
     ]
    }
   ],
   "source": [
    "lamda=0.001\n",
    "sess = tf.InteractiveSession()\n",
    "def multilayer_percep(mnist,hl):\n",
    "    x = tf.placeholder(tf.float32, shape=[None, 784])\n",
    "    y_ = tf.placeholder(tf.float32, shape=[None, 10])\n",
    "    W_in = tf.Variable(tf.truncated_normal([784,hl]))\n",
    "    b_in = tf.Variable(tf.constant(0.1,shape=[hl]))\n",
    "    W_out = tf.Variable(tf.truncated_normal([hl,10]))\n",
    "    b_out = tf.Variable(tf.constant(0.1,shape=[10]))\n",
    "    layer1=tf.add(tf.matmul(x,W_in),b_in)\n",
    "    y=tf.add(tf.matmul(tf.sigmoid(layer1),W_out),b_out)\n",
    "   \n",
    "        \n",
    "    sess.run(tf.global_variables_initializer())\n",
    "\n",
    "    cross_entropy0 = tf.reduce_mean(tf.nn.sigmoid_cross_entropy_with_logits(labels=y_, logits=y))\n",
    "    regularize=tf.add(tf.nn.l2_loss(W_in),tf.nn.l2_loss(W_out))\n",
    "    cross_entropy=tf.add(cross_entropy0,tf.multiply(regularize,lamda))\n",
    "    train_step = tf.train.GradientDescentOptimizer(0.3).minimize(cross_entropy)\n",
    "\n",
    "    for _ in range(6000):\n",
    "      batch = mnist.train.next_batch(100)\n",
    "      train_step.run(feed_dict={x: batch[0], y_: batch[1]})\n",
    "    correct_prediction = tf.equal(tf.argmax(y,1), tf.argmax(y_,1))\n",
    "    accuracy = tf.reduce_mean(tf.cast(correct_prediction, tf.float32))\n",
    "    trn_e=accuracy.eval(feed_dict={x: mnist.test.images, y_: mnist.test.labels})\n",
    "    tst_e=accuracy.eval(feed_dict={x: mnist.train.images, y_: mnist.train.labels})\n",
    "    return(1-trn_e,1-tst_e)\n",
    "\n",
    "def multilayer_percep1(mnist,hl):\n",
    "    x = tf.placeholder(tf.float32, shape=[None, 784])\n",
    "    y_ = tf.placeholder(tf.float32, shape=[None, 10])\n",
    "    W_in = tf.Variable(tf.truncated_normal([784,hl]))\n",
    "    b_in = tf.Variable(tf.constant(0.1,shape=[hl]))\n",
    "    W_out = tf.Variable(tf.truncated_normal([hl,10]))\n",
    "    b_out = tf.Variable(tf.constant(0.1,shape=[10]))\n",
    "    layer1=tf.add(tf.matmul(x,W_in),b_in)\n",
    "    y=tf.add(tf.matmul(tf.sigmoid(layer1),W_out),b_out)\n",
    "   \n",
    "        \n",
    "    sess.run(tf.global_variables_initializer())\n",
    "\n",
    "    cross_entropy = tf.reduce_mean(tf.nn.sigmoid_cross_entropy_with_logits(labels=y_, logits=y))\n",
    "    train_step = tf.train.GradientDescentOptimizer(0.3).minimize(cross_entropy)\n",
    "\n",
    "    for _ in range(6000):\n",
    "      batch = mnist.train.next_batch(100)\n",
    "      train_step.run(feed_dict={x: batch[0], y_: batch[1]})\n",
    "    correct_prediction = tf.equal(tf.argmax(y,1), tf.argmax(y_,1))\n",
    "    accuracy = tf.reduce_mean(tf.cast(correct_prediction, tf.float32))\n",
    "    trn_e=accuracy.eval(feed_dict={x: mnist.test.images, y_: mnist.test.labels})\n",
    "    tst_e=accuracy.eval(feed_dict={x: mnist.train.images, y_: mnist.train.labels})\n",
    "    return(1-trn_e,1-tst_e)\n",
    "\n",
    "print(\"                                Classification Error\")\n",
    "print(\"                                training     testing\")\n",
    "tr,tt=multilayer_percep1(mnist,50)     \n",
    "print(\"50HLN + no reguralization       \",round(tr,3),\"     \",round(tt,3))\n",
    "tr,tt=multilayer_percep(mnist,50)     \n",
    "print(\"50HLN + l2 reguralization       \",round(tr,3),\"     \",round(tt,3) )     \n",
    "tr,tt=multilayer_percep1(mnist,250)     \n",
    "print(\"250HLN + no reguralization      \",round(tr,3),\"     \",round(tt,3) )   \n",
    "tr,tt=multilayer_percep(mnist,250)     \n",
    "print(\"250HLN + l2 reguralization      \",round(tr,3),\"     \",round(tt,3) )    \n",
    "\n",
    "print(\"Learning rate      0.3\")\n",
    "print(\"l2 Reguralization parameter 0.001\")\n",
    "print(\"Number of learning rounds\",len(mnist))"
   ]
  },
  {
   "cell_type": "code",
   "execution_count": null,
   "metadata": {
    "collapsed": true
   },
   "outputs": [],
   "source": []
  }
 ],
 "metadata": {
  "kernelspec": {
   "display_name": "Python 3",
   "language": "python",
   "name": "python3"
  },
  "language_info": {
   "codemirror_mode": {
    "name": "ipython",
    "version": 3
   },
   "file_extension": ".py",
   "mimetype": "text/x-python",
   "name": "python",
   "nbconvert_exporter": "python",
   "pygments_lexer": "ipython3",
   "version": "3.6.3"
  }
 },
 "nbformat": 4,
 "nbformat_minor": 2
}
