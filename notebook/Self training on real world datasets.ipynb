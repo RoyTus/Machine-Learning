{
 "cells": [
  {
   "cell_type": "code",
   "execution_count": 1,
   "metadata": {
    "collapsed": true
   },
   "outputs": [],
   "source": [
    "import numpy as np\n",
    "import matplotlib.pyplot as plt\n",
    "from sklearn.linear_model import LogisticRegression\n",
    "from sklearn.svm import SVC\n",
    "from sklearn.neighbors import KNeighborsClassifier\n",
    "from sklearn.naive_bayes import GaussianNB"
   ]
  },
  {
   "cell_type": "code",
   "execution_count": 2,
   "metadata": {
    "collapsed": true
   },
   "outputs": [],
   "source": [
    "a=['../data/energy-y1.csv',\n",
    "   '../data/mushroom.csv',\n",
    "   '../data/pima.csv','../data/magic.csv',\n",
    "   '../data/titanic.csv','../data/wine.csv',\n",
    "   '../data/breast-cancer-wisc-diag_train.csv','../data/credit-approval.csv',\n",
    "   '../data/spambase_train.csv','../data/statlog-image.csv',\n",
    "   '../data/miniboone.csv','../data/semeion.csv',\n",
    "    '../data/twonorm.csv','../data/planning.csv','../data/connect-4.csv']\n"
   ]
  },
  {
   "cell_type": "code",
   "execution_count": 3,
   "metadata": {
    "collapsed": true
   },
   "outputs": [],
   "source": [
    "def self_training(Z_labelled_,O_labelled_,Z_unlabelled_,sample_rate_unlabelled,Z_test,O_test):\n",
    "    lr = LogisticRegression(C=1.)\n",
    "    #lr=SVC(kernel='rbf')\n",
    "    #lr=KNeighborsClassifier(n_neighbors=4)\n",
    "    Z_labelled=Z_labelled_\n",
    "    O_labelled=O_labelled_\n",
    "    Z_unlabelled=Z_unlabelled_\n",
    "    #required unlabelled data to move to labelled\n",
    "    len_labelled_data=sample_rate_unlabelled*len(Z_unlabelled)\n",
    "    i=0\n",
    "    confidence=0.90\n",
    "    while(1):\n",
    "        lr.fit(Z_labelled,O_labelled)\n",
    "        if(len_labelled_data >= len(Z_unlabelled) or i>20):\n",
    "            break\n",
    "        #predict probability of the unlabelled class\n",
    "        temp=lr.predict_proba(Z_unlabelled)\n",
    "        #index if confidence in class 1 is greater than 0.95\n",
    "        temp_index_class1=np.asarray(np.where(temp[:,0] >confidence))\n",
    "        if len(temp_index_class1[0,:]):\n",
    "            \n",
    "            label=lr.predict([Z_unlabelled[temp_index_class1[0,0],:]])\n",
    "            Z_labelled=np.concatenate((Z_labelled, Z_unlabelled[temp_index_class1[0,:],:]), axis=0)  \n",
    "            O_labelled=np.concatenate((O_labelled, np.full((len(temp_index_class1[0,:])), label)), axis=0) \n",
    "        #index if confidence in class 2 is greater than 0.95\n",
    "        temp_index_class2=np.asarray(np.where(temp[:,1] >confidence))\n",
    "        #print(temp_index_class2.shape,len(temp_index_class1))\n",
    "        if len(temp_index_class2[0,:]):\n",
    "            label=lr.predict([Z_unlabelled[temp_index_class2[0,0],:]])\n",
    "            Z_labelled=np.concatenate((Z_labelled, Z_unlabelled[temp_index_class2[0,:],:]), axis=0)  \n",
    "            O_labelled=np.concatenate((O_labelled, np.full((len(temp_index_class2[0,:])), label)), axis=0)  \n",
    "        #Now clean the unlabelled data from the labbelled data\n",
    "        Z_2=np.concatenate((temp_index_class1[0,:], temp_index_class2[0,:]), axis=0) \n",
    "        Z_unlabelled=np.delete(Z_unlabelled,Z_2,0)\n",
    "        i=i+1\n",
    "\n",
    "    return (1-lr.score(Z_test,O_test))*100"
   ]
  },
  {
   "cell_type": "code",
   "execution_count": 4,
   "metadata": {},
   "outputs": [
    {
     "name": "stdout",
     "output_type": "stream",
     "text": [
      "Dataset: energy-y1.csv\n",
      "5 fold validation error by using self training on unlabelled data 19.4466403162\n",
      "5 fold validation error without labelling the training data 19.4466403162\n",
      "Dataset: mushroom.csv\n",
      "5 fold validation error by using self training on unlabelled data 22.0576131687\n",
      "5 fold validation error without labelling the training data 22.0576131687\n",
      "Dataset: pima.csv\n",
      "5 fold validation error by using self training on unlabelled data 29.209486166\n",
      "5 fold validation error without labelling the training data 28.3399209486\n",
      "Dataset: magic.csv\n",
      "5 fold validation error by using self training on unlabelled data 28.4210526316\n",
      "5 fold validation error without labelling the training data 28.0701754386\n",
      "Dataset: titanic.csv\n",
      "5 fold validation error by using self training on unlabelled data 19.696969697\n",
      "5 fold validation error without labelling the training data 19.696969697\n",
      "Dataset: wine.csv\n",
      "5 fold validation error by using self training on unlabelled data 12.0\n",
      "5 fold validation error without labelling the training data 20.0\n",
      "Dataset: breast-cancer-wisc-diag_train.csv\n",
      "5 fold validation error by using self training on unlabelled data 3.07692307692\n",
      "5 fold validation error without labelling the training data 6.15384615385\n",
      "Dataset: credit-approval.csv\n",
      "5 fold validation error by using self training on unlabelled data 23.0\n",
      "5 fold validation error without labelling the training data 25.0\n",
      "Dataset: spambase_train.csv\n",
      "5 fold validation error by using self training on unlabelled data 9.27272727273\n",
      "5 fold validation error without labelling the training data 8.90909090909\n",
      "Dataset: statlog-image.csv\n",
      "5 fold validation error by using self training on unlabelled data 13.6231884058\n",
      "5 fold validation error without labelling the training data 12.7536231884\n",
      "Dataset: miniboone.csv\n",
      "5 fold validation error by using self training on unlabelled data 20.5947193027\n",
      "5 fold validation error without labelling the training data 19.8051781594\n",
      "Dataset: semeion.csv\n",
      "5 fold validation error by using self training on unlabelled data 23.829787234\n",
      "5 fold validation error without labelling the training data 22.9787234043\n",
      "Dataset: twonorm.csv\n",
      "5 fold validation error by using self training on unlabelled data 2.7027027027\n",
      "5 fold validation error without labelling the training data 2.79279279279\n",
      "Dataset: planning.csv\n",
      "5 fold validation error by using self training on unlabelled data 32.0\n",
      "5 fold validation error without labelling the training data 36.0\n"
     ]
    }
   ],
   "source": [
    "for k in range(0,14):\n",
    "    data=np.genfromtxt(a[k], delimiter=',')\n",
    "    print(\"Dataset:\",a[k][8:])\n",
    "    dataj=[]\n",
    "    dataj=np.array_split(data,5)\n",
    "    X_labelled=[]\n",
    "    X_unlabelled=[]\n",
    "    Y_labelled=[]\n",
    "    for i in range(0,5):\n",
    "        random_data = np.random.randint(len(dataj[i]), size=int(0.15*len(dataj[i])))\n",
    "        X_labelled.append(dataj[i][random_data,:-1])\n",
    "        Y_labelled.append(dataj[i][random_data,-1])\n",
    "        X_unlabelled.append(np.delete(dataj[i][:,:-1],random_data,0))\n",
    "        #print(random_data.shape,dataj[i].shape,X_labelled[i].shape,X_unlabelled[i].shape,Y_labelled[i].shape)\n",
    "    error=0\n",
    "    error1=0\n",
    "    for i in range(0,5):\n",
    "        #the testing array\n",
    "        Z_test=X_labelled[i]\n",
    "        O_test=Y_labelled[i]\n",
    "        first=1\n",
    "        for j in range(0,5):\n",
    "            #the training array\n",
    "            if(i!=j):\n",
    "                if(first==1):\n",
    "                    Z_labelled=X_labelled[j]\n",
    "                    O_labelled=Y_labelled[j]\n",
    "                    Z_unlabelled=X_unlabelled[j]\n",
    "                    first=0\n",
    "                else:\n",
    "                    Z_labelled=np.concatenate((Z_labelled,X_labelled[j]),axis=0)\n",
    "                    O_labelled=np.concatenate((O_labelled,Y_labelled[j]),axis=0)\n",
    "                    Z_unlabelled=np.concatenate((Z_unlabelled,X_unlabelled[j]),axis=0)\n",
    "        #print(Z_test.shape,O_test.shape,Z_labelled.shape,O_labelled.shape,Z_unlabelled.shape)\n",
    "        error=error+self_training(Z_labelled,O_labelled,Z_unlabelled,0,Z_test,O_test)\n",
    "        error1=error1+self_training(Z_labelled,O_labelled,Z_unlabelled,1,Z_test,O_test)\n",
    "    print(\"5 fold validation error by using self training on unlabelled data\",error/5) \n",
    "     \n",
    "    print(\"5 fold validation error without labelling the training data\",error1/5)\n",
    "    \n",
    "    "
   ]
  },
  {
   "cell_type": "code",
   "execution_count": null,
   "metadata": {
    "collapsed": true
   },
   "outputs": [],
   "source": []
  }
 ],
 "metadata": {
  "kernelspec": {
   "display_name": "Python 3",
   "language": "python",
   "name": "python3"
  },
  "language_info": {
   "codemirror_mode": {
    "name": "ipython",
    "version": 3
   },
   "file_extension": ".py",
   "mimetype": "text/x-python",
   "name": "python",
   "nbconvert_exporter": "python",
   "pygments_lexer": "ipython3",
   "version": "3.6.3"
  }
 },
 "nbformat": 4,
 "nbformat_minor": 2
}
