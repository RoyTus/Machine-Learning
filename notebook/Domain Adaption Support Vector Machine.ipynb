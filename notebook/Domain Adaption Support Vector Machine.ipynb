{
 "cells": [
  {
   "cell_type": "code",
   "execution_count": 1,
   "metadata": {
    "collapsed": true
   },
   "outputs": [],
   "source": [
    "%matplotlib inline\n",
    "import numpy as np\n",
    "import matplotlib.pyplot as plt\n",
    "import cvxopt as cp\n",
    "from sklearn import svm"
   ]
  },
  {
   "cell_type": "code",
   "execution_count": 2,
   "metadata": {
    "collapsed": true
   },
   "outputs": [],
   "source": [
    "data = np.loadtxt('source_train.csv', delimiter=',')\n",
    "X = data[:,:-1]\n",
    "y = data[:,-1]\n",
    "data = np.loadtxt('source_test.csv', delimiter=',')\n",
    "X_test = data[:,:-1]\n",
    "y_test = data[:,-1]\n",
    "clf = svm.SVC(kernel='linear')\n",
    "clf.fit(X,y)\n",
    "Ws=clf.coef_\n",
    "Ws_mat=cp.matrix(Ws)\n",
    "Ws_t=Ws.transpose()"
   ]
  },
  {
   "cell_type": "code",
   "execution_count": 3,
   "metadata": {},
   "outputs": [
    {
     "name": "stdout",
     "output_type": "stream",
     "text": [
      "[ 1.00e+00 -1.00e+00  1.00e+00 -1.00e+00 -1.00e+00  1.00e+00 -1.00e+00 ... ]\n",
      "\n"
     ]
    }
   ],
   "source": [
    "data = np.loadtxt('target_train.csv', delimiter=',')\n",
    "X = data[:,:-1]\n",
    "y = data[:,-1]\n",
    "B=1;\n",
    "X_t=X.transpose()\n",
    "y_t=y.transpose()\n",
    "X_t=cp.matrix(X_t)\n",
    "Ws_t=cp.matrix(Ws_t)\n",
    "X_mat=cp.matrix(X)\n",
    "y_mat=cp.matrix(y)\n",
    "train_len=len(y)\n",
    "print(cp.matrix(np.reshape(y,(1,50))))"
   ]
  },
  {
   "cell_type": "code",
   "execution_count": 4,
   "metadata": {
    "collapsed": true
   },
   "outputs": [],
   "source": [
    "def compute_F(y_mat,X_mat,X_t,Ws_t,train_len,i,B):\n",
    "    Fi=[]\n",
    "    la=-1*(1 - (B*y_mat[i,:]*X_mat[i,:]*Ws_t))\n",
    "    Fi=np.append(Fi,la)\n",
    "    return (Fi)\n",
    "    \n",
    "def compute_H(y_mat,X_mat,X_t,Ws_t,train_len,i,B):\n",
    "    Hi=[[]]\n",
    "    for j in range(0,train_len):\n",
    "        l=y_mat[i,:]*y_mat[j,:]*X_mat[i,:]*X_t[:,j]\n",
    "        Hi =np.append(Hi,l)\n",
    "    return(Hi.flatten())\n",
    "\n",
    "P=[]\n",
    "q=[]\n",
    "for k in range(0,train_len):\n",
    "    m=compute_F(y_mat,X_mat,X_t,Ws_t,train_len,k,B)\n",
    "    l=compute_H(y_mat,X_mat,X_t,Ws_t,train_len,k,B)\n",
    "    q.append(m)\n",
    "    P.append(l)\n",
    "    \n",
    "q=np.array(q).tolist() \n",
    "P=np.array(P).tolist()\n",
    "P_mat=cp.matrix(P)\n",
    "q_mat=cp.matrix(np.matrix(q))\n",
    "P=P_mat\n",
    "q=q_mat\n",
    "A=cp.matrix(np.reshape(y,(1,50)))\n",
    "b=cp.matrix(0.0)\n",
    "G0=np.identity(50)\n",
    "#G1=np.full((1,50),-1.0)\n",
    "#G2=np.full((1,50),C)\n",
    "G1=np.append(G0,G0,axis=0)\n",
    "h1=np.full((50,1),0.0)\n",
    "h2=np.full((50,1),1.0)\n",
    "h1=np.append(h1,h2,axis=0)\n",
    "#print(cp.matrix(h1))"
   ]
  },
  {
   "cell_type": "code",
   "execution_count": 5,
   "metadata": {},
   "outputs": [
    {
     "name": "stdout",
     "output_type": "stream",
     "text": [
      "     pcost       dcost       gap    pres   dres\n",
      " 0: -1.0444e+01 -6.5249e+01  6e+02  3e+00  2e+00\n",
      " 1:  3.9360e+00 -9.1629e+01  2e+02  7e-01  5e-01\n",
      " 2:  1.3702e+00 -1.8036e+01  2e+01  5e-03  4e-03\n",
      " 3: -1.7953e+00 -3.4268e+00  2e+00  2e-04  1e-04\n",
      " 4: -2.3232e+00 -2.8100e+00  5e-01  4e-05  3e-05\n",
      " 5: -2.4529e+00 -2.7300e+00  3e-01  1e-05  8e-06\n",
      " 6: -2.5626e+00 -2.5678e+00  5e-03  2e-07  1e-07\n",
      " 7: -2.5646e+00 -2.5647e+00  5e-05  2e-09  1e-09\n",
      " 8: -2.5647e+00 -2.5647e+00  5e-07  2e-11  1e-11\n",
      "Optimal solution found.\n"
     ]
    }
   ],
   "source": [
    "G=cp.matrix(G1)\n",
    "h=cp.matrix(h1)\n",
    "sol=cp.solvers.qp(P,q,G,h,A,b)\n",
    "#print(sol['x'])\n",
    "alpha=sol['x']\n",
    "#find W\n",
    "s1=cp.matrix([[0],[0]])\n",
    "\n",
    "for k in range(0,train_len):\n",
    "    s1=s1 + A[k]*alpha[k]*X_mat[k,:]\n",
    "Wt=Ws_mat*B + s1"
   ]
  },
  {
   "cell_type": "code",
   "execution_count": 6,
   "metadata": {},
   "outputs": [
    {
     "name": "stdout",
     "output_type": "stream",
     "text": [
      "0.43898348124545583 0.11453956630714313\n"
     ]
    }
   ],
   "source": [
    "data = np.loadtxt('target_test.csv', delimiter=',')\n",
    "X_test = data[:,:-1]\n",
    "y_test = data[:,-1]\n",
    "print(Wt[0],Wt[1])"
   ]
  },
  {
   "cell_type": "code",
   "execution_count": 7,
   "metadata": {},
   "outputs": [
    {
     "name": "stdout",
     "output_type": "stream",
     "text": [
      "accuracy =  97.0\n"
     ]
    }
   ],
   "source": [
    "accuracy=len(X_test)\n",
    "for k in range(0,len(X_test)):\n",
    "    predict=X_test[k,0]*Wt[0]+X_test[k,1]*Wt[1]\n",
    "    if(predict*y_test[k]<0):\n",
    "        accuracy=accuracy-1#misprediction\n",
    "print(\"accuracy = \",accuracy/len(X_test)*100)"
   ]
  },
  {
   "cell_type": "code",
   "execution_count": 8,
   "metadata": {},
   "outputs": [
    {
     "name": "stdout",
     "output_type": "stream",
     "text": [
      "[0 0 0 ..., 1 1 1]\n"
     ]
    },
    {
     "data": {
      "image/png": "[encoded data removed]",
      "text/plain": [
       "<matplotlib.figure.Figure at 0x7fd6d10d4c88>"
      ]
     },
     "metadata": {},
     "output_type": "display_data"
    }
   ],
   "source": [
    "def predict(X_test,y_test,Wt):\n",
    "    z=list()\n",
    "    for k in range(0,len(X_test)):\n",
    "        predict1=X_test[k,0]*Wt[0]+X_test[k,1]*Wt[1]\n",
    "        if(predict1<0):\n",
    "            z.append(0)\n",
    "        else:\n",
    "            z.append(1)\n",
    "    stockArr =  np.asarray(z)\n",
    "    return stockArr.flatten()\n",
    "        \n",
    "        \n",
    "x = np.random.multivariate_normal([-1, -1], [[1, -.25], [-.25, 1]], 500).T\n",
    "h = .02\n",
    "x_min, x_max = x.min()+1 , x.max()+1\n",
    "y_min, y_max = y.min() - 4, y.max() + 4\n",
    "plt.title(\"Test Error graph with linear kernel\")\n",
    "plt.plot(X_test[np.where(y_test==1.0)[0], 0], X_test[np.where(y_test==1)[0], 1], 'o')\n",
    "plt.plot(X_test[np.where(y_test==-1)[0], 0], X_test[np.where(y_test==-1)[0], 1], 's', c = 'r')\n",
    "xx, yy = np.meshgrid(np.arange(x_min, x_max, h), np.arange(y_min, y_max, h)\n",
    ")\n",
    "Z = predict(np.c_[xx.ravel(), yy.ravel()],y_test,Wt)\n",
    "print(Z)\n",
    "Z = Z.reshape(xx.shape)\n",
    "plt.pcolormesh(xx, yy, Z, cmap=plt.cm.Paired)\n",
    "\n",
    "plt.show()"
   ]
  },
  {
   "cell_type": "code",
   "execution_count": null,
   "metadata": {
    "collapsed": true
   },
   "outputs": [],
   "source": []
  }
 ],
 "metadata": {
  "kernelspec": {
   "display_name": "Python 3",
   "language": "python",
   "name": "python3"
  },
  "language_info": {
   "codemirror_mode": {
    "name": "ipython",
    "version": 3
   },
   "file_extension": ".py",
   "mimetype": "text/x-python",
   "name": "python",
   "nbconvert_exporter": "python",
   "pygments_lexer": "ipython3",
   "version": "3.6.3"
  }
 },
 "nbformat": 4,
 "nbformat_minor": 2
}
